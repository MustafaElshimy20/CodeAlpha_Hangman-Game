{
 "cells": [
  {
   "cell_type": "code",
   "execution_count": 2,
   "id": "1944712f",
   "metadata": {},
   "outputs": [
    {
     "name": "stdout",
     "output_type": "stream",
     "text": [
      "Welcome to Hangman!\n",
      "_ _ _ _ _ _\n",
      "Guess a letter: a\n",
      "Incorrect guess. You have 5 attempts left.\n",
      "_ _ _ _ _ _\n",
      "Guess a letter: p\n",
      "Good guess!\n",
      "p _ _ _ _ _\n",
      "Guess a letter: h\n",
      "Good guess!\n",
      "p _ _ h _ _\n",
      "Guess a letter: c\n",
      "Incorrect guess. You have 4 attempts left.\n",
      "p _ _ h _ _\n",
      "Guess a letter: p\n",
      "You already guessed that letter.\n",
      "p _ _ h _ _\n",
      "Guess a letter: w\n",
      "Incorrect guess. You have 3 attempts left.\n",
      "p _ _ h _ _\n",
      "Guess a letter: r\n",
      "Incorrect guess. You have 2 attempts left.\n",
      "p _ _ h _ _\n",
      "Guess a letter: u\n",
      "Incorrect guess. You have 1 attempts left.\n",
      "p _ _ h _ _\n",
      "Guess a letter: m\n",
      "Incorrect guess. You have 0 attempts left.\n",
      "Sorry, you've run out of attempts. The word was: python\n"
     ]
    }
   ],
   "source": [
    "import random\n",
    "\n",
    "def hangman():\n",
    "    words = ['python', 'hangman', 'challenge', 'programming', 'random']\n",
    "    word = random.choice(words)\n",
    "    guessed_letters = []\n",
    "    incorrect_guesses = 0\n",
    "    max_incorrect_guesses = 6\n",
    "    display_word = ['_'] * len(word)\n",
    "\n",
    "    print(\"Welcome to Hangman!\")\n",
    "    while incorrect_guesses < max_incorrect_guesses and '_' in display_word:\n",
    "        print(' '.join(display_word))\n",
    "        guess = input(\"Guess a letter: \").lower()\n",
    "\n",
    "        if guess in guessed_letters:\n",
    "            print(\"You already guessed that letter.\")\n",
    "        elif guess in word:\n",
    "            for i, letter in enumerate(word):\n",
    "                if letter == guess:\n",
    "                    display_word[i] = guess\n",
    "            print(\"Good guess!\")\n",
    "        else:\n",
    "            incorrect_guesses += 1\n",
    "            print(f\"Incorrect guess. You have {max_incorrect_guesses - incorrect_guesses} attempts left.\")\n",
    "        \n",
    "        guessed_letters.append(guess)\n",
    "\n",
    "    if '_' not in display_word:\n",
    "        print(\"Congratulations! You guessed the word:\", word)\n",
    "    else:\n",
    "        print(\"Sorry, you've run out of attempts. The word was:\", word)\n",
    "\n",
    "hangman()\n"
   ]
  },
  {
   "cell_type": "code",
   "execution_count": null,
   "id": "3ab591bf",
   "metadata": {},
   "outputs": [],
   "source": []
  },
  {
   "cell_type": "code",
   "execution_count": null,
   "id": "ce69eb6e",
   "metadata": {},
   "outputs": [],
   "source": []
  }
 ],
 "metadata": {
  "kernelspec": {
   "display_name": "Python 3 (ipykernel)",
   "language": "python",
   "name": "python3"
  },
  "language_info": {
   "codemirror_mode": {
    "name": "ipython",
    "version": 3
   },
   "file_extension": ".py",
   "mimetype": "text/x-python",
   "name": "python",
   "nbconvert_exporter": "python",
   "pygments_lexer": "ipython3",
   "version": "3.11.5"
  }
 },
 "nbformat": 4,
 "nbformat_minor": 5
}
